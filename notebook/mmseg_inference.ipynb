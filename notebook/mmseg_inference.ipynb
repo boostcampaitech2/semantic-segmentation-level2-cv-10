{
 "cells": [
  {
   "cell_type": "code",
   "execution_count": null,
   "id": "3fd75793",
   "metadata": {},
   "outputs": [],
   "source": [
    "import os\n",
    "import numpy as np\n",
    "import pandas as pd\n",
    "import matplotlib.pyplot as plt\n",
    "from tqdm import tqdm\n",
    "\n",
    "import cv2\n",
    "\n",
    "import torch\n",
    "import albumentations as A\n",
    "\n",
    "import mmcv\n",
    "from mmcv import Config\n",
    "from mmcv.runner import load_checkpoint\n",
    "from mmcv.parallel import MMDataParallel\n",
    "\n",
    "from mmseg.apis import single_gpu_test\n",
    "from mmseg.datasets import build_dataloader, build_dataset\n",
    "from mmseg.models import build_segmentor\n",
    "\n",
    "import pycocotools\n",
    "from pycocotools.coco import COCO\n"
   ]
  },
  {
   "cell_type": "code",
   "execution_count": null,
   "id": "edda58ea",
   "metadata": {},
   "outputs": [],
   "source": [
    "\n",
    "# config file 들고오기\n",
    "cfg = Config.fromfile('/opt/ml/Git/p_stage_img_seg/work_dirs/swin-b/swin-b.py')\n",
    "\n",
    "# dataset config 수정\n",
    "cfg.data.test.test_mode = True\n",
    "cfg.data.samples_per_gpu = 2\n",
    "cfg.data.workers_per_gpu = 2\n",
    "\n",
    "cfg.seed = 123456\n",
    "cfg.gpu_ids = [0]\n",
    "cfg.work_dir = '/opt/ml/Git/p_stage_img_seg/work_dirs/swin-b/'\n",
    "\n",
    "# cfg.optimizer_config.grad_clip = dict(max_norm=35, norm_type=2)\n",
    "cfg.model.train_cfg = None"
   ]
  },
  {
   "cell_type": "code",
   "execution_count": null,
   "id": "b086a8cf",
   "metadata": {},
   "outputs": [],
   "source": [
    "# build dataset & dataloader\n",
    "dataset = build_dataset(cfg.data.test)\n",
    "data_loader = build_dataloader(\n",
    "        dataset,\n",
    "        samples_per_gpu=cfg.data.samples_per_gpu,\n",
    "        workers_per_gpu=cfg.data.workers_per_gpu,\n",
    "        dist=False,\n",
    "        shuffle=False)"
   ]
  },
  {
   "cell_type": "code",
   "execution_count": null,
   "id": "83b3eae6",
   "metadata": {},
   "outputs": [],
   "source": [
    "# checkpoint path\n",
    "checkpoint_path = os.path.join(cfg.work_dir, f'latest.pth')\n",
    "\n",
    "model = build_segmentor(cfg.model, test_cfg=cfg.get('test_cfg')) # build detector\n",
    "# checkpoint = load_checkpoint(model, checkpoint_path, map_location='cpu') # ckpt load\n",
    "checkpoint = load_checkpoint(model, checkpoint_path) # ckpt load\n",
    "\n",
    "model.CLASSES = dataset.CLASSES\n",
    "model.PALETTE = dataset.PALETTE\n",
    "model = MMDataParallel(model.cuda(), device_ids=[0])\n"
   ]
  },
  {
   "cell_type": "code",
   "execution_count": null,
   "id": "c9f5c2bb",
   "metadata": {},
   "outputs": [],
   "source": [
    "torch.cuda.empty_cache()\n",
    "output = single_gpu_test(model, data_loader) # output 계산"
   ]
  },
  {
   "cell_type": "markdown",
   "metadata": {},
   "source": [
    "## Load COCO json"
   ]
  },
  {
   "cell_type": "code",
   "execution_count": null,
   "metadata": {},
   "outputs": [],
   "source": [
    "prediction_strings = []\n",
    "file_names = []\n",
    "coco = COCO('/opt/ml/segmentation/input/data/test.json')\n",
    "image_path = '/opt/ml/segmentation/input/data/'\n",
    "img_ids = coco.getImgIds()"
   ]
  },
  {
   "cell_type": "markdown",
   "metadata": {},
   "source": [
    "## Extract semantic mask and image"
   ]
  },
  {
   "cell_type": "code",
   "execution_count": null,
   "metadata": {},
   "outputs": [],
   "source": [
    "from pathlib import Path"
   ]
  },
  {
   "cell_type": "code",
   "execution_count": null,
   "metadata": {},
   "outputs": [],
   "source": [
    "def merge_image(insert_image, insert_mask, class_id, base_image=None, base_mask=None):\n",
    "    \"\"\"\n",
    "    Args:\n",
    "        insert_image: \n",
    "        insert_mask:\n",
    "        class_id:\n",
    "        base_image:\n",
    "        base_mask:\n",
    "    \"\"\"\n",
    "    tmp_img = np.ones((512,512,3), dtype=np.uint8) * 255\n",
    "    if type(base_image) is type(None):\n",
    "        base_image = tmp_img.copy()\n",
    "    tmp_img[:,:,0] = np.where(insert_mask == class_id, insert_image[:,:,0], base_image[:,:,0])  # R\n",
    "    tmp_img[:,:,1] = np.where(insert_mask == class_id, insert_image[:,:,1], base_image[:,:,1])  # G\n",
    "    tmp_img[:,:,2] = np.where(insert_mask == class_id, insert_image[:,:,2], base_image[:,:,2])  # B\n",
    "    if type(base_mask) is type(None):\n",
    "        base_mask = np.zeros((512,512), dtype=np.uint8)\n",
    "    tmp_mask = np.where(insert_mask == class_id, insert_mask, base_mask)  # mask\n",
    "    return tmp_img, tmp_mask"
   ]
  },
  {
   "cell_type": "code",
   "execution_count": null,
   "metadata": {},
   "outputs": [],
   "source": [
    "classes = (\"Background\", \"General trash\", \"Paper\", \"Paper pack\", \"Metal\", \"Glass\", \"Plastic\", \"Styrofoam\", \"Plastic bag\", \"Battery\", \"Clothing\")\n",
    "\n",
    "# ------------------------------------------- #\n",
    "target_category = 1\n",
    "# ------------------------------------------- #\n",
    "\n",
    "save_dir = f\"/opt/ml/segmentation/extract_image/{target_category}\"\n",
    "Path(f\"{save_dir}/image/\").mkdir(exist_ok=True, parents=True)\n",
    "Path(f\"{save_dir}/mask/\").mkdir(exist_ok=True, parents=True)\n",
    "\n",
    "for i, seg_mask in tqdm(enumerate(output)):\n",
    "    if not np.isin(target_category, seg_mask):\n",
    "        continue\n",
    "    image_info = coco.loadImgs(coco.getImgIds(imgIds=img_ids[i]))[0]\n",
    "    image = cv2.imread(image_path + image_info['file_name'])\n",
    "    catImage, catSegMask = merge_image(image, seg_mask, target_category)\n",
    "    _path = Path(image_info['file_name'])\n",
    "    image_name = f\"{save_dir}/image/{_path.parent}_{_path.stem}.png\"\n",
    "    mask_name = f\"{save_dir}/mask/{_path.parent}_{_path.stem}.mask.png\"\n",
    "    cv2.imwrite(image_name, catImage)\n",
    "    cv2.imwrite(mask_name, catSegMask)"
   ]
  },
  {
   "cell_type": "markdown",
   "metadata": {},
   "source": [
    "## Inference"
   ]
  },
  {
   "cell_type": "code",
   "execution_count": null,
   "metadata": {},
   "outputs": [],
   "source": [
    "def prepare_submission_mask(output, img_size: list=[512, 512]):\n",
    "    dummy_image = np.zeros(img_size)\n",
    "    resized_tmp_mask_arr = A.Resize(256, 256)(image=dummy_image, mask=output)['mask']\n",
    "    return resized_tmp_mask_arr.flatten()"
   ]
  },
  {
   "cell_type": "code",
   "execution_count": null,
   "id": "5672a0ff",
   "metadata": {},
   "outputs": [],
   "source": [
    "\n",
    "for i, out in tqdm(enumerate(output)):\n",
    "    image_info = coco.loadImgs(coco.getImgIds(imgIds=img_ids[i]))[0]\n",
    "    prediction_strings.append(' '.join(str(e) for e in prepare_submission_mask(out).tolist()))\n",
    "    file_names.append(image_info['file_name'])\n",
    "\n",
    "submission = pd.DataFrame()\n",
    "submission['image_id'] = file_names\n",
    "submission['PredictionString'] = prediction_strings\n",
    "submission.to_csv('/opt/ml/Git/p_stage_img_seg/submission/mmseg_pointrend_submission.yb007.csv', index=None)\n",
    "submission.head()"
   ]
  },
  {
   "cell_type": "code",
   "execution_count": null,
   "metadata": {},
   "outputs": [],
   "source": [
    "for i in range(10):\n",
    "    fig, ax = plt.subplots(1, 2)\n",
    "    # a1 = instanceMask2semtsegMask(output[i], score_thrs=0.2)\n",
    "    a1 = prepare_submission_mask(output[i])\n",
    "    # a2 = instanceMask2semtsegMaskV2(output[i], score_thrs=0.3)\n",
    "    ax[0].imshow(a1.reshape(256, 256))\n",
    "    # ax[1].imshow(a2.reshape(256, 256))\n",
    "    plt.show()"
   ]
  },
  {
   "cell_type": "code",
   "execution_count": null,
   "metadata": {},
   "outputs": [],
   "source": []
  }
 ],
 "metadata": {
  "interpreter": {
   "hash": "d36e052b391be8c28b05838ade06426769a29575d5fe21a7bc69c7dec0c04c06"
  },
  "kernelspec": {
   "display_name": "Python 3.7.11 64-bit ('segmentation': conda)",
   "name": "python3"
  },
  "language_info": {
   "codemirror_mode": {
    "name": "ipython",
    "version": 3
   },
   "file_extension": ".py",
   "mimetype": "text/x-python",
   "name": "python",
   "nbconvert_exporter": "python",
   "pygments_lexer": "ipython3",
   "version": "3.7.11"
  }
 },
 "nbformat": 4,
 "nbformat_minor": 5
}
