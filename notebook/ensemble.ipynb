{
 "cells": [
  {
   "cell_type": "code",
   "execution_count": 87,
   "id": "04c511c4-1a5b-4494-940d-f3ee1bd73228",
   "metadata": {},
   "outputs": [],
   "source": [
    "import pandas as pd\n",
    "import numpy as np"
   ]
  },
  {
   "cell_type": "code",
   "execution_count": 88,
   "id": "28df16fb-a98c-4602-8eb2-bc5f39f72377",
   "metadata": {},
   "outputs": [],
   "source": [
    "csv_1 = pd.read_csv('0.734_sim.csv')\n",
    "csv_2 = pd.read_csv('0.729_gm.csv')\n",
    "csv_3 = pd.read_csv('0.728_yb.csv')"
   ]
  },
  {
   "cell_type": "code",
   "execution_count": 89,
   "id": "0789f182-d2f9-4c2a-9836-b8de92f1605c",
   "metadata": {},
   "outputs": [],
   "source": [
    "pred_1 = np.array([csv_1['PredictionString'][i].split() for i in range(len(pred_1))], dtype='int8')\n",
    "pred_2 = np.array([csv_2['PredictionString'][i].split() for i in range(len(pred_1))], dtype='int8')\n",
    "pred_3 = np.array([csv_3['PredictionString'][i].split() for i in range(len(pred_1))], dtype='int8')"
   ]
  },
  {
   "cell_type": "code",
   "execution_count": 90,
   "id": "9327ed98-e493-41a3-a477-ab0a28c9cbe8",
   "metadata": {},
   "outputs": [],
   "source": [
    "csv = csv_1.copy()"
   ]
  },
  {
   "cell_type": "code",
   "execution_count": 91,
   "id": "7c17def8-9c2d-441f-8db1-57e395db48dc",
   "metadata": {},
   "outputs": [
    {
     "name": "stdout",
     "output_type": "stream",
     "text": [
      "                 image_id                                   PredictionString\n",
      "0    batch_01_vt/0021.jpg  0 0 0 0 0 0 0 0 0 0 0 0 0 0 0 0 0 0 0 0 0 0 0 ...\n",
      "1    batch_01_vt/0028.jpg  0 0 0 0 0 0 0 0 0 0 0 0 0 0 0 0 0 0 0 0 0 0 0 ...\n",
      "2    batch_01_vt/0031.jpg  0 0 0 0 0 0 0 0 0 0 0 0 0 0 0 0 0 0 0 0 0 0 0 ...\n",
      "3    batch_01_vt/0032.jpg  0 0 0 0 0 0 0 0 0 0 0 0 0 0 0 0 0 0 0 0 0 0 0 ...\n",
      "4    batch_01_vt/0076.jpg  0 0 0 0 0 0 0 0 0 0 0 0 0 0 0 0 0 0 0 0 0 0 0 ...\n",
      "..                    ...                                                ...\n",
      "814     batch_03/0947.jpg  0 0 0 0 0 0 0 0 0 0 0 0 0 0 0 0 0 0 0 0 0 0 0 ...\n",
      "815     batch_03/0968.jpg  0 0 0 0 0 0 0 0 0 0 0 0 0 0 0 0 0 0 0 0 0 0 0 ...\n",
      "816     batch_03/0969.jpg  0 0 0 0 0 0 0 0 0 0 0 0 0 0 0 0 0 0 0 0 0 0 0 ...\n",
      "817     batch_03/0992.jpg  0 0 0 0 0 0 0 0 0 0 0 0 0 0 0 0 0 0 0 0 0 0 0 ...\n",
      "818     batch_03/0998.jpg  0 0 0 0 0 0 0 0 0 0 0 0 0 0 0 0 0 0 0 0 0 0 0 ...\n",
      "\n",
      "[819 rows x 2 columns]\n"
     ]
    }
   ],
   "source": [
    "print(csv)"
   ]
  },
  {
   "cell_type": "code",
   "execution_count": 92,
   "id": "3ded4cbc-accf-4f04-88b1-dd92d16062d5",
   "metadata": {},
   "outputs": [],
   "source": [
    "# bincount.argmax() 후\n",
    "# max값이 1일 경우 pred_1을 따라가도록\n",
    "\n",
    "pred = [0 for _ in range(len(pred_1[0]))] \n",
    "\n",
    "for i in range(len(pred_1)):\n",
    "    for j in range(len(pred_1[i])):\n",
    "        x = [pred_1[i][j], pred_2[i][j], pred_3[i][j]]\n",
    "        bin_x = np.bincount(x)\n",
    "        pred[j] = bin_x.argmax() if np.max(bin_x) > 1 else pred_1[i][j]\n",
    "    \n",
    "    pred = [str(pred[i]) for i in range(len(pred))]\n",
    "    csv['PredictionString'][i] = ' '.join(pred)"
   ]
  },
  {
   "cell_type": "code",
   "execution_count": 93,
   "id": "f49f34ba-fa93-41d5-8c06-a6d1f1a582c1",
   "metadata": {},
   "outputs": [
    {
     "data": {
      "text/html": [
       "<div>\n",
       "<style scoped>\n",
       "    .dataframe tbody tr th:only-of-type {\n",
       "        vertical-align: middle;\n",
       "    }\n",
       "\n",
       "    .dataframe tbody tr th {\n",
       "        vertical-align: top;\n",
       "    }\n",
       "\n",
       "    .dataframe thead th {\n",
       "        text-align: right;\n",
       "    }\n",
       "</style>\n",
       "<table border=\"1\" class=\"dataframe\">\n",
       "  <thead>\n",
       "    <tr style=\"text-align: right;\">\n",
       "      <th></th>\n",
       "      <th>image_id</th>\n",
       "      <th>PredictionString</th>\n",
       "    </tr>\n",
       "  </thead>\n",
       "  <tbody>\n",
       "    <tr>\n",
       "      <th>0</th>\n",
       "      <td>batch_01_vt/0021.jpg</td>\n",
       "      <td>0 0 0 0 0 0 0 0 0 0 0 0 0 0 0 0 0 0 0 0 0 0 0 ...</td>\n",
       "    </tr>\n",
       "    <tr>\n",
       "      <th>1</th>\n",
       "      <td>batch_01_vt/0028.jpg</td>\n",
       "      <td>0 0 0 0 0 0 0 0 0 0 0 0 0 0 0 0 0 0 0 0 0 0 0 ...</td>\n",
       "    </tr>\n",
       "    <tr>\n",
       "      <th>2</th>\n",
       "      <td>batch_01_vt/0031.jpg</td>\n",
       "      <td>0 0 0 0 0 0 0 0 0 0 0 0 0 0 0 0 0 0 0 0 0 0 0 ...</td>\n",
       "    </tr>\n",
       "    <tr>\n",
       "      <th>3</th>\n",
       "      <td>batch_01_vt/0032.jpg</td>\n",
       "      <td>0 0 0 0 0 0 0 0 0 0 0 0 0 0 0 0 0 0 0 0 0 0 0 ...</td>\n",
       "    </tr>\n",
       "    <tr>\n",
       "      <th>4</th>\n",
       "      <td>batch_01_vt/0076.jpg</td>\n",
       "      <td>0 0 0 0 0 0 0 0 0 0 0 0 0 0 0 0 0 0 0 0 0 0 0 ...</td>\n",
       "    </tr>\n",
       "    <tr>\n",
       "      <th>...</th>\n",
       "      <td>...</td>\n",
       "      <td>...</td>\n",
       "    </tr>\n",
       "    <tr>\n",
       "      <th>814</th>\n",
       "      <td>batch_03/0947.jpg</td>\n",
       "      <td>0 0 0 0 0 0 0 0 0 0 0 0 0 0 0 0 0 0 0 0 0 0 0 ...</td>\n",
       "    </tr>\n",
       "    <tr>\n",
       "      <th>815</th>\n",
       "      <td>batch_03/0968.jpg</td>\n",
       "      <td>0 0 0 0 0 0 0 0 0 0 0 0 0 0 0 0 0 0 0 0 0 0 0 ...</td>\n",
       "    </tr>\n",
       "    <tr>\n",
       "      <th>816</th>\n",
       "      <td>batch_03/0969.jpg</td>\n",
       "      <td>0 0 0 0 0 0 0 0 0 0 0 0 0 0 0 0 0 0 0 0 0 0 0 ...</td>\n",
       "    </tr>\n",
       "    <tr>\n",
       "      <th>817</th>\n",
       "      <td>batch_03/0992.jpg</td>\n",
       "      <td>0 0 0 0 0 0 0 0 0 0 0 0 0 0 0 0 0 0 0 0 0 0 0 ...</td>\n",
       "    </tr>\n",
       "    <tr>\n",
       "      <th>818</th>\n",
       "      <td>batch_03/0998.jpg</td>\n",
       "      <td>0 0 0 0 0 0 0 0 0 0 0 0 0 0 0 0 0 0 0 0 0 0 0 ...</td>\n",
       "    </tr>\n",
       "  </tbody>\n",
       "</table>\n",
       "<p>819 rows × 2 columns</p>\n",
       "</div>"
      ],
      "text/plain": [
       "                 image_id                                   PredictionString\n",
       "0    batch_01_vt/0021.jpg  0 0 0 0 0 0 0 0 0 0 0 0 0 0 0 0 0 0 0 0 0 0 0 ...\n",
       "1    batch_01_vt/0028.jpg  0 0 0 0 0 0 0 0 0 0 0 0 0 0 0 0 0 0 0 0 0 0 0 ...\n",
       "2    batch_01_vt/0031.jpg  0 0 0 0 0 0 0 0 0 0 0 0 0 0 0 0 0 0 0 0 0 0 0 ...\n",
       "3    batch_01_vt/0032.jpg  0 0 0 0 0 0 0 0 0 0 0 0 0 0 0 0 0 0 0 0 0 0 0 ...\n",
       "4    batch_01_vt/0076.jpg  0 0 0 0 0 0 0 0 0 0 0 0 0 0 0 0 0 0 0 0 0 0 0 ...\n",
       "..                    ...                                                ...\n",
       "814     batch_03/0947.jpg  0 0 0 0 0 0 0 0 0 0 0 0 0 0 0 0 0 0 0 0 0 0 0 ...\n",
       "815     batch_03/0968.jpg  0 0 0 0 0 0 0 0 0 0 0 0 0 0 0 0 0 0 0 0 0 0 0 ...\n",
       "816     batch_03/0969.jpg  0 0 0 0 0 0 0 0 0 0 0 0 0 0 0 0 0 0 0 0 0 0 0 ...\n",
       "817     batch_03/0992.jpg  0 0 0 0 0 0 0 0 0 0 0 0 0 0 0 0 0 0 0 0 0 0 0 ...\n",
       "818     batch_03/0998.jpg  0 0 0 0 0 0 0 0 0 0 0 0 0 0 0 0 0 0 0 0 0 0 0 ...\n",
       "\n",
       "[819 rows x 2 columns]"
      ]
     },
     "execution_count": 93,
     "metadata": {},
     "output_type": "execute_result"
    }
   ],
   "source": [
    "csv"
   ]
  },
  {
   "cell_type": "code",
   "execution_count": 94,
   "id": "cceaec9b-4df1-44b5-bc21-ba31a330fcce",
   "metadata": {},
   "outputs": [
    {
     "data": {
      "text/plain": [
       "8"
      ]
     },
     "execution_count": 94,
     "metadata": {},
     "output_type": "execute_result"
    }
   ],
   "source": [
    "pred_3[818][0]"
   ]
  },
  {
   "cell_type": "code",
   "execution_count": 95,
   "id": "beaef63b-5509-4a1c-9109-37b0ae87dff0",
   "metadata": {},
   "outputs": [],
   "source": [
    "csv.to_csv(\"../submission/ensemble.csv\", index=False)"
   ]
  }
 ],
 "metadata": {
  "kernelspec": {
   "display_name": "segmentation",
   "language": "python",
   "name": "segmentation"
  },
  "language_info": {
   "codemirror_mode": {
    "name": "ipython",
    "version": 3
   },
   "file_extension": ".py",
   "mimetype": "text/x-python",
   "name": "python",
   "nbconvert_exporter": "python",
   "pygments_lexer": "ipython3",
   "version": "3.7.11"
  }
 },
 "nbformat": 4,
 "nbformat_minor": 5
}
